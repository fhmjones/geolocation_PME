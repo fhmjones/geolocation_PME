{
 "cells": [
  {
   "cell_type": "code",
   "execution_count": 22,
   "id": "085f2f7c",
   "metadata": {},
   "outputs": [],
   "source": [
    "import ipywidgets as widgets\n",
    "import folium\n"
   ]
  },
  {
   "cell_type": "code",
   "execution_count": 23,
   "id": "09a0f7ae",
   "metadata": {},
   "outputs": [],
   "source": [
    "button = widgets.Button(description=\"Click to open map.\", button_style=\"primary\")\n",
    "\n",
    "out_widget = widgets.Output(layout={'border': '1px solid black'})\n",
    "\n",
    "m = folium.Map()\n",
    "\n",
    "title = \"Folium's default map\""
   ]
  },
  {
   "cell_type": "code",
   "execution_count": 24,
   "id": "934d5e6a",
   "metadata": {},
   "outputs": [
    {
     "data": {
      "application/vnd.jupyter.widget-view+json": {
       "model_id": "e820cfd13c2d481dbdd79bf8c240ce75",
       "version_major": 2,
       "version_minor": 0
      },
      "text/plain": [
       "HBox(children=(Button(button_style='primary', description='Click to open map.', style=ButtonStyle()), Output(l…"
      ]
     },
     "execution_count": 24,
     "metadata": {},
     "output_type": "execute_result"
    }
   ],
   "source": [
    "def on_button_clicked(b):\n",
    "    with out_widget:\n",
    "        print(title)\n",
    "        display(m)\n",
    "\n",
    "button.on_click(on_button_clicked)\n",
    "\n",
    "widgets.HBox([button, out_widget])"
   ]
  },
  {
   "cell_type": "markdown",
   "id": "0a0b10c8",
   "metadata": {},
   "source": [
    "**no longer needed**\n",
    "\n",
    "```\n",
    "with out:\n",
    "    for i in range(10):\n",
    "        print(i, 'Hello world again!')\n",
    "        \n",
    "```"
   ]
  },
  {
   "cell_type": "code",
   "execution_count": null,
   "id": "3001db20",
   "metadata": {},
   "outputs": [],
   "source": []
  }
 ],
 "metadata": {
  "kernelspec": {
   "display_name": "Python 3 (ipykernel)",
   "language": "python",
   "name": "python3"
  },
  "language_info": {
   "codemirror_mode": {
    "name": "ipython",
    "version": 3
   },
   "file_extension": ".py",
   "mimetype": "text/x-python",
   "name": "python",
   "nbconvert_exporter": "python",
   "pygments_lexer": "ipython3",
   "version": "3.9.13"
  }
 },
 "nbformat": 4,
 "nbformat_minor": 5
}
