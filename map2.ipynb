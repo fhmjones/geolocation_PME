{
 "cells": [
  {
   "cell_type": "markdown",
   "id": "27ae68fe",
   "metadata": {},
   "source": [
    "**For comparing two locations**\n",
    "\n",
    "Based on Folium docs at https://python-visualization.github.io/folium/latest/index.html\n",
    "Currently requires manually pasting locations. But this could easily be changed to read a CSV to \"walk through\" several. \n",
    "Start in the spreadsheet, combine two locations so they can be copy/pasted into the 'locn' variable\n"
   ]
  },
  {
   "cell_type": "code",
   "execution_count": 24,
   "id": "7403836f",
   "metadata": {
    "lines_to_end_of_cell_marker": 2,
    "lines_to_next_cell": 2
   },
   "outputs": [],
   "source": [
    "import folium\n",
    "import pandas as pd\n",
    "\n",
    "df = pd.read_excel('20rows.xlsx')\n",
    "nrows = df.shape[0]"
   ]
  },
  {
   "cell_type": "code",
   "execution_count": 28,
   "id": "004bdb9f",
   "metadata": {},
   "outputs": [
    {
     "name": "stdout",
     "output_type": "stream",
     "text": [
      "enter specimen number or n, p, f, l23\n",
      "'23' is an integer.\n"
     ]
    }
   ],
   "source": [
    "def is_int(input_str):\n",
    "    try:\n",
    "        int(input_str)\n",
    "        return True\n",
    "    except ValueError:\n",
    "        return False\n",
    "\n",
    "# set specimen number based on entered value\n",
    "def set_spec(spec, nrows):\n",
    "    if is_int(inp):\n",
    "        print(f\"'{inp}' is an integer.\")\n",
    "        return inp\n",
    "    else:\n",
    "        if inp = \"n\": \n",
    "            spec =+ 1\n",
    "        elif inp = \"p\":\n",
    "            spec =- 1\n",
    "        elif inp = \"f\":\n",
    "            spec = 1\n",
    "        elif inp = \"l\":\n",
    "            spec = nrows\n",
    "        else:\n",
    "            spec = -1\n",
    "    return spec\n",
    "\n",
    "inp = input(\"enter specimen number or n, p, f, l: \")"
   ]
  },
  {
   "cell_type": "code",
   "execution_count": 19,
   "id": "b5ba5f3f",
   "metadata": {},
   "outputs": [],
   "source": [
    "def make_map(spec, df):\n",
    "    lat1 = df.OrigLat[spec-1]\n",
    "    lon1 = df.OrigLong[spec-1]\n",
    "    lat2 = df.ApLat[spec-1]\n",
    "    lon2 = df.ApLong[spec-1]\n",
    "\n",
    "    if lat1 == 0 and lat2 == 0:\n",
    "        m = folium.Map(location=[lat2, lon2], zoom_start=7, control_scale=True,)\n",
    "        folium.Marker(\n",
    "            location=[0, 0],             \n",
    "            tooltip = \"No Location found\", \n",
    "            icon=folium.Icon(color=\"red\"),\n",
    "        ).add_to(m)  \n",
    "    \n",
    "    elif lat1 == 0 :\n",
    "        m = folium.Map(location=[lat2, lon2], zoom_start=7, titles=\"test map\", control_scale=True,)\n",
    "        folium.Marker(\n",
    "            location=[lat2, lon2], \n",
    "            tooltip = f\"Specimen {spec}\",\n",
    "            popup=f\"No Original, GeoApp: {lat2}, {lon2}\", \n",
    "            icon=folium.Icon(color=\"green\"),\n",
    "        ).add_to(m)        \n",
    "\n",
    "    elif lat2 == 0 :\n",
    "        m = folium.Map(location=[lat1, lon1], zoom_start=7, titles=\"test map\", control_scale=True,)\n",
    "        folium.Marker(\n",
    "            location=[lat1, lon1], \n",
    "            tooltip = f\"Specimen {spec}\",\n",
    "            popup=f\"No GeoApp, Original: {lat1}, {lon1}\",\n",
    "            icon=folium.Icon(color=\"blue\"),\n",
    "        ).add_to(m)\n",
    "    \n",
    "    else:\n",
    "        m = folium.Map(location=[lat1, lon1], zoom_start=7, titles=\"test map\", control_scale=True,)\n",
    "        folium.Marker(\n",
    "            location=[lat1, lon1], \n",
    "            tooltip = f\"Specimen {spec}\",\n",
    "            popup=f\"Original: {lat1}, {lon1}\",\n",
    "            icon=folium.Icon(color=\"blue\"),\n",
    "        ).add_to(m)\n",
    "        \n",
    "        folium.Marker(\n",
    "            location=[lat2, lon2], \n",
    "            tooltip = f\"Specimen {spec}\",\n",
    "            popup=f\"GeoApp: {lat2}, {lon2}\", \n",
    "            icon=folium.Icon(color=\"green\"),\n",
    "        ).add_to(m)  \n",
    "        \n",
    "    return m"
   ]
  },
  {
   "cell_type": "code",
   "execution_count": 20,
   "id": "e7383cb9",
   "metadata": {},
   "outputs": [
    {
     "name": "stdout",
     "output_type": "stream",
     "text": [
      "No. specimens is 20\n"
     ]
    },
    {
     "ename": "TypeError",
     "evalue": "'>' not supported between instances of 'str' and 'int'",
     "output_type": "error",
     "traceback": [
      "\u001b[1;31m---------------------------------------------------------------------------\u001b[0m",
      "\u001b[1;31mTypeError\u001b[0m                                 Traceback (most recent call last)",
      "Input \u001b[1;32mIn [20]\u001b[0m, in \u001b[0;36m<cell line: 4>\u001b[1;34m()\u001b[0m\n\u001b[0;32m      1\u001b[0m \u001b[38;5;66;03m# spec = int(spec)\u001b[39;00m\n\u001b[0;32m      2\u001b[0m \u001b[38;5;28mprint\u001b[39m(\u001b[38;5;124mf\u001b[39m\u001b[38;5;124m\"\u001b[39m\u001b[38;5;124mNo. specimens is \u001b[39m\u001b[38;5;132;01m{\u001b[39;00mnrows\u001b[38;5;132;01m}\u001b[39;00m\u001b[38;5;124m\"\u001b[39m)\n\u001b[1;32m----> 4\u001b[0m \u001b[38;5;28;01mwhile\u001b[39;00m \u001b[43mspec\u001b[49m\u001b[43m \u001b[49m\u001b[38;5;241;43m>\u001b[39;49m\u001b[43m \u001b[49m\u001b[38;5;241;43m0\u001b[39;49m:\n\u001b[0;32m      5\u001b[0m     spec \u001b[38;5;241m=\u001b[39m \u001b[38;5;28minput\u001b[39m(\u001b[38;5;124m\"\u001b[39m\u001b[38;5;124mEnter specimen number: \u001b[39m\u001b[38;5;124m\"\u001b[39m)\n\u001b[0;32m      6\u001b[0m     \u001b[38;5;28mprint\u001b[39m(\u001b[38;5;124mf\u001b[39m\u001b[38;5;124m\"\u001b[39m\u001b[38;5;124mentered \u001b[39m\u001b[38;5;132;01m{\u001b[39;00mspec\u001b[38;5;132;01m}\u001b[39;00m\u001b[38;5;124m\"\u001b[39m)\n",
      "\u001b[1;31mTypeError\u001b[0m: '>' not supported between instances of 'str' and 'int'"
     ]
    }
   ],
   "source": [
    "# spec = int(spec)\n",
    "print(f\"No. specimens is {nrows}\")\n",
    "\n",
    "while spec > 0:\n",
    "    spec = input(\"Enter specimen number: \")\n",
    "    print(f\"entered {spec}\")\n",
    "\n",
    "    if spec >= nrows or spec < 1:\n",
    "        print(\"specimen number is out of range.\")\n",
    "    \n",
    "    else:\n",
    "        #m = make_map(spec,df)    \n",
    "        #m.save(\"map.html\")\n",
    "        print(f\"specimen {spec} plotted.\")"
   ]
  },
  {
   "cell_type": "code",
   "execution_count": null,
   "id": "42d30b72",
   "metadata": {},
   "outputs": [],
   "source": []
  }
 ],
 "metadata": {
  "kernelspec": {
   "display_name": "Python 3 (ipykernel)",
   "language": "python",
   "name": "python3"
  },
  "language_info": {
   "codemirror_mode": {
    "name": "ipython",
    "version": 3
   },
   "file_extension": ".py",
   "mimetype": "text/x-python",
   "name": "python",
   "nbconvert_exporter": "python",
   "pygments_lexer": "ipython3",
   "version": "3.9.13"
  }
 },
 "nbformat": 4,
 "nbformat_minor": 5
}
